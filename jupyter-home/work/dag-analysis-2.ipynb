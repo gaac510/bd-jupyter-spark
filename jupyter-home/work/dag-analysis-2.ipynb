{
 "cells": [
  {
   "cell_type": "code",
   "execution_count": null,
   "id": "01008275-1dc2-4151-aebc-4cd184b1338f",
   "metadata": {},
   "outputs": [],
   "source": [
    "from pyspark.sql import SparkSession\n",
    "from pyspark.sql.functions import *\n",
    "\n",
    "def countWords(dirPath):\n",
    "    # SparkSession is the outmost entry point.\n",
    "    spark = SparkSession.builder.master(\"spark://spark-master:7077\").getOrCreate()\n",
    "    # SparkContext is what speaks with the cluster manager.\n",
    "    sc = spark.sparkContext\n",
    "\n",
    "    rdd = sc.wholeTextFiles(dirPath)\n",
    "    \n",
    "    # rdd = rdd.repartition(5)\n",
    "\n",
    "    rdd = rdd.flatMap(\n",
    "        lambda x: x[1].splitlines()\n",
    "    ).flatMap(\n",
    "        lambda x: x.split()\n",
    "    ).map(\n",
    "        lambda x: x.strip('.,:?()[]\"\\'')\n",
    "    )\n",
    "\n",
    "    return rdd.countByKey()\n",
    "\n",
    "countWords('/data/dag-analysis-inputs')"
   ]
  },
  {
   "cell_type": "code",
   "execution_count": null,
   "id": "ab3292a5-6507-418d-a34b-5bc409948b21",
   "metadata": {},
   "outputs": [],
   "source": []
  }
 ],
 "metadata": {
  "kernelspec": {
   "display_name": "Python 3 (ipykernel)",
   "language": "python",
   "name": "python3"
  },
  "language_info": {
   "codemirror_mode": {
    "name": "ipython",
    "version": 3
   },
   "file_extension": ".py",
   "mimetype": "text/x-python",
   "name": "python",
   "nbconvert_exporter": "python",
   "pygments_lexer": "ipython3",
   "version": "3.8.13"
  }
 },
 "nbformat": 4,
 "nbformat_minor": 5
}
