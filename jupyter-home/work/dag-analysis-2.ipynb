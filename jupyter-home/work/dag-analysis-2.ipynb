{
 "cells": [
  {
   "cell_type": "code",
   "execution_count": 20,
   "id": "01008275-1dc2-4151-aebc-4cd184b1338f",
   "metadata": {},
   "outputs": [
    {
     "data": {
      "text/plain": [
       "defaultdict(int,\n",
       "            {'p': 173890,\n",
       "             'C': 17626,\n",
       "             'i': 231826,\n",
       "             't': 410098,\n",
       "             'f': 165880,\n",
       "             'o': 305520,\n",
       "             'I': 31554,\n",
       "             'd': 113364,\n",
       "             's': 186302,\n",
       "             'a': 422540,\n",
       "             'b': 109708,\n",
       "             'e': 67348,\n",
       "             'J': 37258,\n",
       "             'P': 15898,\n",
       "             'S': 122700,\n",
       "             'N': 17366,\n",
       "             'R': 89096,\n",
       "             'c': 154860,\n",
       "             'A': 55657,\n",
       "             'l': 65024,\n",
       "             'u': 38076,\n",
       "             'n': 55360,\n",
       "             'T': 29900,\n",
       "             'm': 101202,\n",
       "             'r': 97614,\n",
       "             'w': 83898,\n",
       "             'j': 7120,\n",
       "             'k': 7566,\n",
       "             'B': 9280,\n",
       "             'v': 26874,\n",
       "             'E': 9266,\n",
       "             'V': 432,\n",
       "             '1': 7144,\n",
       "             'g': 8700,\n",
       "             'M': 14632,\n",
       "             'h': 25586,\n",
       "             'F': 17570,\n",
       "             'y': 7320,\n",
       "             'Q': 1282,\n",
       "             'U': 2996,\n",
       "             'H': 17984,\n",
       "             'W': 7678,\n",
       "             '“': 5184,\n",
       "             'O': 5220,\n",
       "             'L': 2722,\n",
       "             '-': 3456,\n",
       "             'q': 3154,\n",
       "             'D': 15792,\n",
       "             '6': 864,\n",
       "             '2': 13976,\n",
       "             '3': 1282,\n",
       "             'G': 850,\n",
       "             'Y': 3530,\n",
       "             '8': 418,\n",
       "             'K': 8712,\n",
       "             'Z': 2916})"
      ]
     },
     "execution_count": 20,
     "metadata": {},
     "output_type": "execute_result"
    }
   ],
   "source": [
    "from pyspark.sql import SparkSession\n",
    "from pyspark.sql.functions import *\n",
    "\n",
    "def countWords(dirPath):\n",
    "    # SparkSession is the outmost entry point.\n",
    "    spark = SparkSession.builder.master(\"spark://spark-master:7077\").getOrCreate()\n",
    "    # SparkContext is what speaks with the cluster manager.\n",
    "    sc = spark.sparkContext\n",
    "\n",
    "    rdd = sc.wholeTextFiles(dirPath)\n",
    "    \n",
    "    # rdd = rdd.repartition(5)\n",
    "\n",
    "    rdd = rdd.flatMap(\n",
    "        lambda x: x[1].splitlines()\n",
    "    ).flatMap(\n",
    "        lambda x: x.split()\n",
    "    ).map(\n",
    "        lambda x: x.strip('.,:?()[]\"\\'')\n",
    "    )\n",
    "\n",
    "    return rdd.countByKey()\n",
    "\n",
    "countWords('/data/dag-analysis-inputs')"
   ]
  }
 ],
 "metadata": {
  "kernelspec": {
   "display_name": "Python 3 (ipykernel)",
   "language": "python",
   "name": "python3"
  },
  "language_info": {
   "codemirror_mode": {
    "name": "ipython",
    "version": 3
   },
   "file_extension": ".py",
   "mimetype": "text/x-python",
   "name": "python",
   "nbconvert_exporter": "python",
   "pygments_lexer": "ipython3",
   "version": "3.8.13"
  }
 },
 "nbformat": 4,
 "nbformat_minor": 5
}
