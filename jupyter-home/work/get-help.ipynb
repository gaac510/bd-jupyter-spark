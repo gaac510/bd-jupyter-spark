{
 "cells": [
  {
   "cell_type": "code",
   "execution_count": 2,
   "id": "a2cfba9d-7073-43a8-b0f0-01fda0c3c53c",
   "metadata": {},
   "outputs": [],
   "source": [
    "import datetime\n",
    "import numpy as np\n",
    "import scipy as sp\n",
    "import pandas as pd\n",
    "import pyspark.pandas as ps\n",
    "from pyspark import SparkFiles\n",
    "from pyspark.sql import SparkSession\n",
    "import matplotlib.pyplot as plt"
   ]
  },
  {
   "cell_type": "code",
   "execution_count": 6,
   "id": "5f2d9190-ebc7-40e0-a788-87a3f6497f61",
   "metadata": {},
   "outputs": [
    {
     "data": {
      "text/plain": [
       "\u001b[0;31mInit signature:\u001b[0m\n",
       "\u001b[0mSparkSession\u001b[0m\u001b[0;34m(\u001b[0m\u001b[0;34m\u001b[0m\n",
       "\u001b[0;34m\u001b[0m    \u001b[0msparkContext\u001b[0m\u001b[0;34m:\u001b[0m \u001b[0mpyspark\u001b[0m\u001b[0;34m.\u001b[0m\u001b[0mcontext\u001b[0m\u001b[0;34m.\u001b[0m\u001b[0mSparkContext\u001b[0m\u001b[0;34m,\u001b[0m\u001b[0;34m\u001b[0m\n",
       "\u001b[0;34m\u001b[0m    \u001b[0mjsparkSession\u001b[0m\u001b[0;34m:\u001b[0m \u001b[0mUnion\u001b[0m\u001b[0;34m[\u001b[0m\u001b[0mpy4j\u001b[0m\u001b[0;34m.\u001b[0m\u001b[0mjava_gateway\u001b[0m\u001b[0;34m.\u001b[0m\u001b[0mJavaObject\u001b[0m\u001b[0;34m,\u001b[0m \u001b[0mNoneType\u001b[0m\u001b[0;34m]\u001b[0m \u001b[0;34m=\u001b[0m \u001b[0;32mNone\u001b[0m\u001b[0;34m,\u001b[0m\u001b[0;34m\u001b[0m\n",
       "\u001b[0;34m\u001b[0m    \u001b[0moptions\u001b[0m\u001b[0;34m:\u001b[0m \u001b[0mDict\u001b[0m\u001b[0;34m[\u001b[0m\u001b[0mstr\u001b[0m\u001b[0;34m,\u001b[0m \u001b[0mAny\u001b[0m\u001b[0;34m]\u001b[0m \u001b[0;34m=\u001b[0m \u001b[0;34m{\u001b[0m\u001b[0;34m}\u001b[0m\u001b[0;34m,\u001b[0m\u001b[0;34m\u001b[0m\n",
       "\u001b[0;34m\u001b[0m\u001b[0;34m)\u001b[0m\u001b[0;34m\u001b[0m\u001b[0;34m\u001b[0m\u001b[0m\n",
       "\u001b[0;31mDocstring:\u001b[0m     \n",
       "The entry point to programming Spark with the Dataset and DataFrame API.\n",
       "\n",
       "A SparkSession can be used create :class:`DataFrame`, register :class:`DataFrame` as\n",
       "tables, execute SQL over tables, cache tables, and read parquet files.\n",
       "To create a :class:`SparkSession`, use the following builder pattern:\n",
       "\n",
       ".. autoattribute:: builder\n",
       "   :annotation:\n",
       "\n",
       "Examples\n",
       "--------\n",
       ">>> spark = SparkSession.builder \\\n",
       "...     .master(\"local\") \\\n",
       "...     .appName(\"Word Count\") \\\n",
       "...     .config(\"spark.some.config.option\", \"some-value\") \\\n",
       "...     .getOrCreate()\n",
       "\n",
       ">>> from datetime import datetime\n",
       ">>> from pyspark.sql import Row\n",
       ">>> spark = SparkSession(sc)\n",
       ">>> allTypes = sc.parallelize([Row(i=1, s=\"string\", d=1.0, l=1,\n",
       "...     b=True, list=[1, 2, 3], dict={\"s\": 0}, row=Row(a=1),\n",
       "...     time=datetime(2014, 8, 1, 14, 1, 5))])\n",
       ">>> df = allTypes.toDF()\n",
       ">>> df.createOrReplaceTempView(\"allTypes\")\n",
       ">>> spark.sql('select i+1, d+1, not b, list[1], dict[\"s\"], time, row.a '\n",
       "...            'from allTypes where b and i > 0').collect()\n",
       "[Row((i + 1)=2, (d + 1)=2.0, (NOT b)=False, list[1]=2,         dict[s]=0, time=datetime.datetime(2014, 8, 1, 14, 1, 5), a=1)]\n",
       ">>> df.rdd.map(lambda x: (x.i, x.s, x.d, x.l, x.b, x.time, x.row.a, x.list)).collect()\n",
       "[(1, 'string', 1.0, 1, True, datetime.datetime(2014, 8, 1, 14, 1, 5), 1, [1, 2, 3])]\n",
       "\u001b[0;31mFile:\u001b[0m           /usr/local/spark/python/pyspark/sql/session.py\n",
       "\u001b[0;31mType:\u001b[0m           type\n",
       "\u001b[0;31mSubclasses:\u001b[0m     \n"
      ]
     },
     "metadata": {},
     "output_type": "display_data"
    }
   ],
   "source": [
    "SparkSession?"
   ]
  }
 ],
 "metadata": {
  "kernelspec": {
   "display_name": "Python 3 (ipykernel)",
   "language": "python",
   "name": "python3"
  },
  "language_info": {
   "codemirror_mode": {
    "name": "ipython",
    "version": 3
   },
   "file_extension": ".py",
   "mimetype": "text/x-python",
   "name": "python",
   "nbconvert_exporter": "python",
   "pygments_lexer": "ipython3",
   "version": "3.8.13"
  }
 },
 "nbformat": 4,
 "nbformat_minor": 5
}
