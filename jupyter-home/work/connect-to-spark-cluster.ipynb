{
 "cells": [
  {
   "cell_type": "code",
   "execution_count": null,
   "id": "b86cb137-4191-462f-abb7-24148bf19ed5",
   "metadata": {},
   "outputs": [],
   "source": [
    "from pyspark.sql import SparkSession\n",
    "\n",
    "spark = SparkSession.builder.master(\"spark://spark:7077\").getOrCreate()"
   ]
  },
  {
   "cell_type": "code",
   "execution_count": 5,
   "id": "12b24472-22cb-4e28-9639-74633f561e1c",
   "metadata": {},
   "outputs": [
    {
     "data": {
      "text/plain": [
       "\u001b[0;31mType:\u001b[0m        SparkSession\n",
       "\u001b[0;31mString form:\u001b[0m <pyspark.sql.session.SparkSession object at 0x7f14faa10460>\n",
       "\u001b[0;31mFile:\u001b[0m        /usr/local/spark/python/pyspark/sql/session.py\n",
       "\u001b[0;31mDocstring:\u001b[0m  \n",
       "The entry point to programming Spark with the Dataset and DataFrame API.\n",
       "\n",
       "A SparkSession can be used create :class:`DataFrame`, register :class:`DataFrame` as\n",
       "tables, execute SQL over tables, cache tables, and read parquet files.\n",
       "To create a :class:`SparkSession`, use the following builder pattern:\n",
       "\n",
       ".. autoattribute:: builder\n",
       "   :annotation:\n",
       "\n",
       "Examples\n",
       "--------\n",
       ">>> spark = SparkSession.builder \\\n",
       "...     .master(\"local\") \\\n",
       "...     .appName(\"Word Count\") \\\n",
       "...     .config(\"spark.some.config.option\", \"some-value\") \\\n",
       "...     .getOrCreate()\n",
       "\n",
       ">>> from datetime import datetime\n",
       ">>> from pyspark.sql import Row\n",
       ">>> spark = SparkSession(sc)\n",
       ">>> allTypes = sc.parallelize([Row(i=1, s=\"string\", d=1.0, l=1,\n",
       "...     b=True, list=[1, 2, 3], dict={\"s\": 0}, row=Row(a=1),\n",
       "...     time=datetime(2014, 8, 1, 14, 1, 5))])\n",
       ">>> df = allTypes.toDF()\n",
       ">>> df.createOrReplaceTempView(\"allTypes\")\n",
       ">>> spark.sql('select i+1, d+1, not b, list[1], dict[\"s\"], time, row.a '\n",
       "...            'from allTypes where b and i > 0').collect()\n",
       "[Row((i + 1)=2, (d + 1)=2.0, (NOT b)=False, list[1]=2,         dict[s]=0, time=datetime.datetime(2014, 8, 1, 14, 1, 5), a=1)]\n",
       ">>> df.rdd.map(lambda x: (x.i, x.s, x.d, x.l, x.b, x.time, x.row.a, x.list)).collect()\n",
       "[(1, 'string', 1.0, 1, True, datetime.datetime(2014, 8, 1, 14, 1, 5), 1, [1, 2, 3])]\n"
      ]
     },
     "metadata": {},
     "output_type": "display_data"
    }
   ],
   "source": [
    "spark?"
   ]
  },
  {
   "cell_type": "code",
   "execution_count": null,
   "id": "a6be7fe6-3a3c-426f-a201-c43e0d59f0d4",
   "metadata": {},
   "outputs": [],
   "source": [
    "df = spark.createDataFrame()"
   ]
  }
 ],
 "metadata": {
  "kernelspec": {
   "display_name": "Python 3 (ipykernel)",
   "language": "python",
   "name": "python3"
  },
  "language_info": {
   "codemirror_mode": {
    "name": "ipython",
    "version": 3
   },
   "file_extension": ".py",
   "mimetype": "text/x-python",
   "name": "python",
   "nbconvert_exporter": "python",
   "pygments_lexer": "ipython3",
   "version": "3.8.13"
  }
 },
 "nbformat": 4,
 "nbformat_minor": 5
}
