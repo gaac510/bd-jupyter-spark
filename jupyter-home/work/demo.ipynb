{
 "cells": [
  {
   "cell_type": "markdown",
   "id": "a6af67ef-8169-419a-812a-91c467d5a694",
   "metadata": {},
   "source": [
    "# Notebook demo\n",
    "This notebook demos the different types of cells available. For example, this is a Markdown cell where formatted text can be created using simple Markdown syntax."
   ]
  },
  {
   "cell_type": "markdown",
   "id": "f05c69c0-37c6-4512-8096-b5516a85aa4d",
   "metadata": {},
   "source": [
    "## Code cell\n",
    "The above is a code cell where program code can be written and immediately executed."
   ]
  },
  {
   "cell_type": "code",
   "execution_count": 5,
   "id": "9df4d52b-d5dd-46b8-967c-122c5667579e",
   "metadata": {
    "tags": []
   },
   "outputs": [
    {
     "name": "stdout",
     "output_type": "stream",
     "text": [
      "Hello world!\n"
     ]
    }
   ],
   "source": [
    "# This is a code cell. The execution result is immediately below. \n",
    "print('Hello world!')"
   ]
  },
  {
   "cell_type": "code",
   "execution_count": 6,
   "id": "631c12fc-95c4-458c-968c-744d2fad8730",
   "metadata": {
    "tags": []
   },
   "outputs": [
    {
     "data": {
      "text/plain": [
       "3"
      ]
     },
     "execution_count": 6,
     "metadata": {},
     "output_type": "execute_result"
    }
   ],
   "source": [
    "# If the last statement of a code cell is an expression, upon execution, it will also be evaluated and printed below.\n",
    "a = 1\n",
    "b = 2\n",
    "a + b"
   ]
  },
  {
   "cell_type": "markdown",
   "id": "874f0475-4034-43f2-a030-730d3fb43a7e",
   "metadata": {},
   "source": [
    "## Raw cell\n",
    "The below is a raw cell and it is displayed as is."
   ]
  },
  {
   "cell_type": "raw",
   "id": "d392414c-09fd-4063-a04a-2c6f79253a2f",
   "metadata": {},
   "source": [
    "This is a raw cell. In case you didn't realise, immediately above is Markdown cell that hasn't been run yet. "
   ]
  }
 ],
 "metadata": {
  "kernelspec": {
   "display_name": "Python 3 (ipykernel)",
   "language": "python",
   "name": "python3"
  },
  "language_info": {
   "codemirror_mode": {
    "name": "ipython",
    "version": 3
   },
   "file_extension": ".py",
   "mimetype": "text/x-python",
   "name": "python",
   "nbconvert_exporter": "python",
   "pygments_lexer": "ipython3",
   "version": "3.8.13"
  }
 },
 "nbformat": 4,
 "nbformat_minor": 5
}
